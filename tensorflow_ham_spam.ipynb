{
  "nbformat": 4,
  "nbformat_minor": 0,
  "metadata": {
    "colab": {
      "name": "tensorflow_ham_spam.ipynb",
      "provenance": [],
      "collapsed_sections": []
    },
    "kernelspec": {
      "name": "python3",
      "display_name": "Python 3"
    },
    "language_info": {
      "name": "python"
    },
    "accelerator": "GPU"
  },
  "cells": [
    {
      "cell_type": "code",
      "source": [
        "!gunzip /content/SMSSpamCollection_txt_train.gz"
      ],
      "metadata": {
        "colab": {
          "base_uri": "https://localhost:8080/"
        },
        "id": "r4M8C4ItrA1L",
        "outputId": "b709cbe8-24ae-4f47-cdd1-bbeda389e1fa"
      },
      "execution_count": 1,
      "outputs": [
        {
          "output_type": "stream",
          "name": "stdout",
          "text": [
            "gzip: /content/SMSSpamCollection_txt_train.gz: No such file or directory\n"
          ]
        }
      ]
    },
    {
      "cell_type": "code",
      "source": [
        "!pip install -q -U tensorflow-text\n",
        "!pip install -q tf-models-official"
      ],
      "metadata": {
        "id": "E8rqhrV2qtxZ"
      },
      "execution_count": 2,
      "outputs": []
    },
    {
      "cell_type": "code",
      "execution_count": 3,
      "metadata": {
        "id": "pUIVinxQnpha"
      },
      "outputs": [],
      "source": [
        "import tensorflow as tf\n",
        "import tensorflow_hub as hub"
      ]
    },
    {
      "cell_type": "code",
      "source": [
        "import pandas as pd\n",
        "f = open('/content/SMSSpamCollection_txt_train')\n",
        "df = pd.read_table(f, names=['target', 'message'])"
      ],
      "metadata": {
        "id": "YrJ4q9UMx04z"
      },
      "execution_count": 4,
      "outputs": []
    },
    {
      "cell_type": "code",
      "source": [
        "# 1 если спам, 0 если не спам\n",
        "df['target'] = df['target'].apply(lambda x: 1 if x=='spam' else 0)\n",
        "target = df.pop('target')\n",
        "# делим датасет на тренировочную и тестовую выборки\n",
        "df_train = df.loc[:4000]\n",
        "target_train = target.loc[:4000]\n",
        "df_test = df.loc[4001:]\n",
        "target_test = target.loc[4001:]"
      ],
      "metadata": {
        "id": "ylThp_eCxi-w"
      },
      "execution_count": 5,
      "outputs": []
    },
    {
      "cell_type": "code",
      "source": [
        "# датасеты с разными типами данных не могут быть сконкатенированны, поэтому оставлю как заготовку\n",
        "import numpy\n",
        "\n",
        "texts = tf.data.Dataset.from_tensor_slices(tf.convert_to_tensor(df))\n",
        "texts = texts.cache().prefetch(buffer_size=tf.data.AUTOTUNE)\n",
        "texts = texts.batch(10)\n",
        "\n",
        "labels = tf.data.Dataset.from_tensor_slices(tf.convert_to_tensor(target))\n",
        "labels = labels.cache().prefetch(buffer_size=tf.data.AUTOTUNE)\n",
        "labels = labels.batch(10)"
      ],
      "metadata": {
        "id": "Ssp682kaqI_w"
      },
      "execution_count": 6,
      "outputs": []
    },
    {
      "cell_type": "code",
      "source": [
        "# посмотрим на входные данные\n",
        "for text_batch in texts.take(1):\n",
        "  for i in range(3):\n",
        "    print(text_batch.numpy()[i])\n",
        "\n",
        "for label_batch in labels.take(1):\n",
        "  for i in range(3):\n",
        "    print(label_batch.numpy()[i])"
      ],
      "metadata": {
        "colab": {
          "base_uri": "https://localhost:8080/"
        },
        "id": "i0gqVO1L2V5T",
        "outputId": "04032226-0793-4e50-b084-fe16ade07789"
      },
      "execution_count": 7,
      "outputs": [
        {
          "output_type": "stream",
          "name": "stdout",
          "text": [
            "[b'Go until jurong point, crazy.. Available only in bugis n great world la e buffet... Cine there got amore wat...']\n",
            "[b'Ok lar... Joking wif u oni...']\n",
            "[b\"Free entry in 2 a wkly comp to win FA Cup final tkts 21st May 2005. Text FA to 87121 to receive entry question(std txt rate)T&C's apply 08452810075over18's\"]\n",
            "0\n",
            "0\n",
            "1\n"
          ]
        }
      ]
    },
    {
      "cell_type": "code",
      "source": [
        "# используем предобученный слой эмбеддинга\n",
        "embedding = \"https://tfhub.dev/google/nnlm-en-dim50/2\"\n",
        "hub_layer = hub.KerasLayer(embedding, input_shape=[], \n",
        "                           dtype=tf.string, trainable=True)"
      ],
      "metadata": {
        "id": "IT28nOQslNCg"
      },
      "execution_count": 8,
      "outputs": []
    },
    {
      "cell_type": "code",
      "source": [
        "model = tf.keras.Sequential()\n",
        "model.add(hub_layer)\n",
        "model.add(tf.keras.layers.Dense(10, activation='relu'))\n",
        "model.add(tf.keras.layers.Dropout(.2, input_shape=(10,)))\n",
        "model.add(tf.keras.layers.Dense(10, activation='relu'))\n",
        "model.add(tf.keras.layers.Dense(1))"
      ],
      "metadata": {
        "id": "GfrlOXlczEL7"
      },
      "execution_count": 9,
      "outputs": []
    },
    {
      "cell_type": "code",
      "source": [
        "model.compile(optimizer='adam',\n",
        "              loss=tf.keras.losses.BinaryCrossentropy(from_logits=True),\n",
        "              metrics=['accuracy'])"
      ],
      "metadata": {
        "id": "E9tpU217zIBb"
      },
      "execution_count": 10,
      "outputs": []
    },
    {
      "cell_type": "code",
      "source": [
        "history = model.fit(df,\n",
        "                    target,\n",
        "                    epochs=5,\n",
        "                    verbose=1)"
      ],
      "metadata": {
        "colab": {
          "base_uri": "https://localhost:8080/"
        },
        "id": "mbYa0Ca8zM6p",
        "outputId": "6fff8372-1d7f-43f6-8b9c-d05af114a694"
      },
      "execution_count": 11,
      "outputs": [
        {
          "output_type": "stream",
          "name": "stdout",
          "text": [
            "Epoch 1/5\n",
            "157/157 [==============================] - 10s 58ms/step - loss: 0.3785 - accuracy: 0.8654\n",
            "Epoch 2/5\n",
            "157/157 [==============================] - 8s 54ms/step - loss: 0.1667 - accuracy: 0.8662\n",
            "Epoch 3/5\n",
            "157/157 [==============================] - 9s 58ms/step - loss: 0.0891 - accuracy: 0.9532\n",
            "Epoch 4/5\n",
            "157/157 [==============================] - 8s 53ms/step - loss: 0.0401 - accuracy: 0.9850\n",
            "Epoch 5/5\n",
            "157/157 [==============================] - 8s 49ms/step - loss: 0.0213 - accuracy: 0.9920\n"
          ]
        }
      ]
    },
    {
      "cell_type": "code",
      "source": [
        "results = model.evaluate(df_test, target_test, verbose=2)\n",
        "\n",
        "for name, value in zip(model.metrics_names, results):\n",
        "  print(\"%s: %.3f\" % (name, value))"
      ],
      "metadata": {
        "colab": {
          "base_uri": "https://localhost:8080/"
        },
        "id": "kOseaeYV2AQY",
        "outputId": "047effbd-0cb6-40e4-81c5-ee8baf80b466"
      },
      "execution_count": 12,
      "outputs": [
        {
          "output_type": "stream",
          "name": "stdout",
          "text": [
            "32/32 - 0s - loss: 0.0052 - accuracy: 1.0000 - 404ms/epoch - 13ms/step\n",
            "loss: 0.005\n",
            "accuracy: 1.000\n"
          ]
        }
      ]
    },
    {
      "cell_type": "code",
      "source": [
        "model.save_weights('./checkpoints/my_checkpoint')"
      ],
      "metadata": {
        "id": "0atd_G7r7ALc"
      },
      "execution_count": 13,
      "outputs": []
    }
  ]
}